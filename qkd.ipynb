{
 "cells": [
  {
   "cell_type": "markdown",
   "id": "480d5a90-76e7-4172-8584-f732fec09a74",
   "metadata": {},
   "source": [
    "# QKD BB84 Protocol Implementation\n",
    "Arjun Bhamra" "Jayash Panigrahi"
   ]
  },
  {
   "cell_type": "markdown",
   "id": "ac72ba7a-3af0-474b-aee9-bfbb3870fe64",
   "metadata": {},
   "source": [
    "### Imports"
   ]
  },
  {
   "cell_type": "code",
   "execution_count": 5,
   "id": "8160c236-440f-4ce3-b0b3-cc6e13e12e59",
   "metadata": {},
   "outputs": [],
   "source": [
    "# make sure to activate your qbraid environment! \n",
    "from qiskit import *\n",
    "from qiskit import Aer\n",
    "import quantuminspire\n",
    "from getpass import getpass\n",
    "from coreapi.auth import BasicAuthentication\n",
    "from quantuminspire.api import QuantumInspireAPI"
   ]
  },
  {
   "cell_type": "markdown",
   "id": "885af776-bd5a-4697-a6f2-e9e9633d5b0f",
   "metadata": {},
   "source": [
    "### Authentication for Quantum Inspire"
   ]
  },
  {
   "cell_type": "code",
   "execution_count": 3,
   "id": "06fdc17d-b667-4e5a-92df-60ce047b0af9",
   "metadata": {},
   "outputs": [],
   "source": [
    "from quantuminspire.credentials import save_account\n",
    "from quantuminspire.qiskit import QI\n",
    "save_account('411ae2cc3197826c315d30bb9315522048307de0')\n",
    "from quantuminspire.credentials import get_token_authentication\n",
    "auth = get_token_authentication()\n",
    "QI.set_authentication()\n",
    "\n",
    "qi = QuantumInspireAPI(r'https://api.quantum-inspire.com', auth, \"QKD-BB84-Implementation\")"
   ]
  },
  {
   "cell_type": "markdown",
   "id": "aa671533-43d5-4d24-97b5-75302e2eadb4",
   "metadata": {},
   "source": [
    "### BB84 Protocol Code"
   ]
  },
  {
   "cell_type": "markdown",
   "id": "08dee55e-a74d-4c34-b380-a5e89079f0c8",
   "metadata": {},
   "source": [
    "#### Helper Functions and Supplemental Imports"
   ]
  },
  {
   "cell_type": "code",
   "execution_count": 4,
   "id": "6f2444f6-a5ad-4e4d-8a73-216229ca8b6d",
   "metadata": {},
   "outputs": [],
   "source": [
    "from qiskit import QuantumCircuit, Aer, transpile, assemble\n",
    "from qiskit.visualization import plot_histogram, plot_bloch_multivector\n",
    "from numpy.random import randint\n",
    "import numpy as np"
   ]
  },
  {
   "cell_type": "code",
   "execution_count": 5,
   "id": "f226221d-8bc3-4484-ab8b-c0c712ed73ca",
   "metadata": {},
   "outputs": [],
   "source": [
    "def encode(bits, bases): #function to encode the results of user 1's bits and bases\n",
    "    message = []\n",
    "    for i in range(n):\n",
    "        qc = QuantumCircuit(1,1)\n",
    "        if bases[i] == 0: # Prepare qubit in Z-basis\n",
    "            if bits[i] == 0:\n",
    "                pass \n",
    "            else:\n",
    "                qc.x(0)\n",
    "        else: # Prepare qubit in X-basis\n",
    "            if bits[i] == 0:\n",
    "                qc.h(0)\n",
    "            else:\n",
    "                qc.x(0)\n",
    "                qc.h(0)\n",
    "        qc.barrier()\n",
    "        message.append(qc)\n",
    "    return message"
   ]
  },
  {
   "cell_type": "code",
   "execution_count": 6,
   "id": "d4945bff-4e0c-4f9c-b90e-f22d58790a34",
   "metadata": {},
   "outputs": [],
   "source": [
    "def decode(message, bases):\n",
    "    \n",
    "    #change to QUANTUM INSPIRE BACKEND LATER\n",
    "    #backend = Aer.get_backend('aer_simulator')\n",
    "    simulator = QI.get_backend('QX single-node simulator')\n",
    "\n",
    "    measurements = []\n",
    "    \n",
    "    for i in range(n): #iterating through all basis/message circuit pairs\n",
    "        qc = QuantumCircuit(1, 1)\n",
    "        if bases[i] == 0: #Z basis measurement\n",
    "            message[i].measure(0, 0)\n",
    "        if bases[i] == 1: #X basis measurement\n",
    "            message[i].h(0)\n",
    "            message[i].measure(0, 0)\n",
    "            \n",
    "        qi_job = execute(message[i], backend = simulator, shots = 1)\n",
    "        qi_result = qi_job.result()\n",
    "\n",
    "        measured_bit = int(qi_result.get_memory()[0])\n",
    "        measurements.append(measured_bit)\n",
    "        \n",
    "        \n",
    "    \n",
    "    return measurements"
   ]
  },
  {
   "cell_type": "code",
   "execution_count": 7,
   "id": "f9b53716-1c86-41e7-8819-b171ca7d4462",
   "metadata": {},
   "outputs": [],
   "source": [
    "def common_bases(u1_bases, u2_bases, u1_bits):\n",
    "    good_bits = []\n",
    "    for i in range(n):\n",
    "        if u1_bases[i]==u2_bases[i]:\n",
    "            good_bits.append(u1_bits[i])\n",
    "            \n",
    "    return good_bits"
   ]
  },
  {
   "cell_type": "code",
   "execution_count": 8,
   "id": "48196681-581d-4446-bf1a-af160b076a35",
   "metadata": {},
   "outputs": [],
   "source": [
    "def sample_bits(bits, selection):\n",
    "    sample = []\n",
    "    for i in selection:\n",
    "        # use np.mod to make sure the\n",
    "        # bit we sample is always in \n",
    "        # the list range\n",
    "        i = np.mod(i, len(bits))\n",
    "        # pop(i) removes the element of the\n",
    "        # list at index 'i'\n",
    "        sample.append(bits.pop(i))\n",
    "    return sample\n",
    "\n",
    "\n",
    "#alternative is to use np.random.choice for random selection of list"
   ]
  },
  {
   "cell_type": "markdown",
   "id": "f97ff987-8a7d-4a21-b39a-8ed31091f575",
   "metadata": {},
   "source": [
    "#### BB84 Runner"
   ]
  },
  {
   "cell_type": "code",
   "execution_count": 11,
   "id": "5842a352-326b-45d1-9f36-d224c35fa647",
   "metadata": {},
   "outputs": [],
   "source": [
    "#Using the Qiskit Code (from the Documentation)\n",
    "np.random.seed(seed=0)\n",
    "\n",
    "n=100 #100 qubit message from Alice\n",
    "\n",
    "#Step 1: User 1 Generates Bits\n",
    "u1_bits = randint(2, size=n)\n",
    "\n",
    "#Step 2: User 1 Generates Bases (0 = Z basis, 1 = X basis)\n",
    "u1_bases = randint(2, size=n)\n",
    "message = encode(u1_bits, u1_bases) #a list of circuits with the correct basis applied\n",
    "\n",
    "#Step 3: User 2 Generates Bases (0 = Z basis, 1 = X basis) and measures User 1's message\n",
    "u2_bases = randint(2, size=n)\n",
    "u2_results = decode(message, u2_bases) \n",
    "\n",
    "#Step 4: Remove the bases that aren't common\n",
    "u1_key = common_bases(u1_bases, u2_bases, u1_bits)\n",
    "u2_key = common_bases(u1_bases, u2_bases, u2_results)\n",
    "\n",
    "#Step 5: Sample a random selection of the bits and compare values to results to verify the security of \n",
    "#the information exchange\n",
    "sample_size = 10\n",
    "bit_selection = randint(n, size=sample_size)\n",
    "u1_sample = sample_bits(u1_key, bit_selection)\n",
    "u2_sample = sample_bits(u2_key, bit_selection)"
   ]
  },
  {
   "cell_type": "code",
   "execution_count": 12,
   "id": "75d5d09d-3b12-4430-9e5f-996617bc43ae",
   "metadata": {},
   "outputs": [
    {
     "name": "stdout",
     "output_type": "stream",
     "text": [
      "You did it!\n"
     ]
    }
   ],
   "source": [
    "if u1_sample == u2_sample:\n",
    "    print(\"You did it!\")"
   ]
  },
  {
   "cell_type": "code",
   "execution_count": 73,
   "id": "c00fc538-0efe-42a6-b34c-435be695b2cf",
   "metadata": {},
   "outputs": [
    {
     "name": "stdout",
     "output_type": "stream",
     "text": [
      "[0, 1, 1, 0, 1, 0, 0, 0, 1, 0, 1, 1, 1, 0, 1, 0, 1, 1, 0, 1, 0, 0, 1, 0, 0, 1, 1, 0, 0, 0, 1, 1, 1, 0, 0, 1, 0, 0]\n",
      "[0, 1, 1, 0, 1, 0, 0, 0, 1, 0, 1, 1, 1, 0, 1, 0, 1, 1, 0, 1, 0, 0, 1, 0, 0, 1, 1, 0, 0, 0, 1, 1, 1, 0, 0, 1, 0, 0]\n",
      "key length = 38\n"
     ]
    }
   ],
   "source": [
    "print(u1_key)\n",
    "print(u2_key)\n",
    "print(\"key length = %i\" % len(u1_key))"
   ]
  },
  {
   "cell_type": "markdown",
   "id": "9b579377-e1f1-401d-91f8-e8794e3cbf08",
   "metadata": {},
   "source": [
    "### Huffman Encoding Algorithm"
   ]
  },
  {
   "cell_type": "code",
   "execution_count": 146,
   "id": "1d173aa3-1831-47cf-a783-9c28d35cd66f",
   "metadata": {},
   "outputs": [],
   "source": [
    "    # Node of a Huffman Tree  \n",
    "    class Nodes:  \n",
    "        def __init__(self, probability, symbol, left = None, right = None):  \n",
    "            # probability of the symbol  \n",
    "            self.probability = probability  \n",
    "      \n",
    "            # the symbol  \n",
    "            self.symbol = symbol  \n",
    "      \n",
    "            # the left node  \n",
    "            self.left = left  \n",
    "      \n",
    "            # the right node  \n",
    "            self.right = right  \n",
    "      \n",
    "            # the tree direction (0 or 1)  \n",
    "            self.code = ''  \n",
    "      \n",
    "    \"\"\" A supporting function in order to calculate the probabilities of symbols in specified data \"\"\"  \n",
    "    def CalculateProbability(the_data):  \n",
    "        the_symbols = dict()  \n",
    "        for item in the_data:  \n",
    "            if the_symbols.get(item) == None:  \n",
    "                the_symbols[item] = 1  \n",
    "            else:   \n",
    "                the_symbols[item] += 1       \n",
    "        return the_symbols  \n",
    "      \n",
    "    \"\"\" A supporting function in order to print the codes of symbols by travelling a Huffman Tree \"\"\"  \n",
    "    the_codes = dict()  \n",
    "      \n",
    "    def CalculateCodes(node, value = ''):  \n",
    "        # a huffman code for current node  \n",
    "        newValue = value + str(node.code)  \n",
    "      \n",
    "        if(node.left):  \n",
    "            CalculateCodes(node.left, newValue)  \n",
    "        if(node.right):  \n",
    "            CalculateCodes(node.right, newValue)  \n",
    "      \n",
    "        if(not node.left and not node.right):  \n",
    "            the_codes[node.symbol] = newValue  \n",
    "               \n",
    "        return the_codes  \n",
    "      \n",
    "    \"\"\" A supporting function in order to get the encoded result \"\"\"  \n",
    "    def OutputEncoded(the_data, coding):  \n",
    "        encodingOutput = []  \n",
    "        for element in the_data:  \n",
    "            # print(coding[element], end = '')  \n",
    "            encodingOutput.append(coding[element])  \n",
    "              \n",
    "        the_string = ''.join([str(item) for item in encodingOutput])      \n",
    "        return the_string  \n",
    "              \n",
    "    \"\"\" A supporting function in order to calculate the space difference between compressed and non compressed data\"\"\"      \n",
    "    def TotalGain(the_data, coding):  \n",
    "        # total bit space to store the data before compression  \n",
    "        beforeCompression = len(the_data) * 8  \n",
    "        afterCompression = 0  \n",
    "        the_symbols = coding.keys()  \n",
    "        for symbol in the_symbols:  \n",
    "            the_count = the_data.count(symbol)  \n",
    "            # calculating how many bit is required for that symbol in total  \n",
    "            afterCompression += the_count * len(coding[symbol])  \n",
    "        print(\"Space usage before compression (in bits):\", beforeCompression)  \n",
    "        print(\"Space usage after compression (in bits):\",  afterCompression)  \n",
    "      \n",
    "    def HuffmanEncoding(the_data):  \n",
    "        symbolWithProbs = CalculateProbability(the_data)  \n",
    "        the_symbols = symbolWithProbs.keys()  \n",
    "        the_probabilities = symbolWithProbs.values()  \n",
    "        print(\"symbols: \", the_symbols)  \n",
    "        print(\"probabilities: \", the_probabilities)  \n",
    "          \n",
    "        the_nodes = []  \n",
    "          \n",
    "        # converting symbols and probabilities into huffman tree nodes  \n",
    "        for symbol in the_symbols:  \n",
    "            the_nodes.append(Nodes(symbolWithProbs.get(symbol), symbol))  \n",
    "          \n",
    "        while len(the_nodes) > 1:  \n",
    "            # sorting all the nodes in ascending order based on their probability  \n",
    "            the_nodes = sorted(the_nodes, key = lambda x: x.probability)  \n",
    "            # for node in nodes:    \n",
    "            #      print(node.symbol, node.prob)  \n",
    "          \n",
    "            # picking two smallest nodes  \n",
    "            right = the_nodes[0]  \n",
    "            left = the_nodes[1]  \n",
    "          \n",
    "            left.code = 0  \n",
    "            right.code = 1  \n",
    "          \n",
    "            # combining the 2 smallest nodes to create new node  \n",
    "            newNode = Nodes(left.probability + right.probability, left.symbol + right.symbol, left, right)  \n",
    "          \n",
    "            the_nodes.remove(left)  \n",
    "            the_nodes.remove(right)  \n",
    "            the_nodes.append(newNode)  \n",
    "                  \n",
    "        huffmanEncoding = CalculateCodes(the_nodes[0])  \n",
    "        print(\"symbols with codes\", huffmanEncoding)  \n",
    "        TotalGain(the_data, huffmanEncoding)  \n",
    "        encodedOutput = OutputEncoded(the_data,huffmanEncoding)  \n",
    "        return encodedOutput, the_nodes[0]  \n",
    "       \n",
    "    def HuffmanDecoding(encodedData, huffmanTree):  \n",
    "        treeHead = huffmanTree  \n",
    "        decodedOutput = []  \n",
    "        for x in encodedData:  \n",
    "            if x == '1':  \n",
    "                huffmanTree = huffmanTree.right     \n",
    "            elif x == '0':  \n",
    "                huffmanTree = huffmanTree.left  \n",
    "            try:  \n",
    "                if huffmanTree.left.symbol == None and huffmanTree.right.symbol == None:  \n",
    "                    pass  \n",
    "            except AttributeError:  \n",
    "                decodedOutput.append(huffmanTree.symbol)  \n",
    "                huffmanTree = treeHead  \n",
    "              \n",
    "        string = ''.join([str(item) for item in decodedOutput])  \n",
    "        return string  \n",
    "    \n",
    "# the_data = input(\"What data would you like to encode?\")\n",
    "# print(the_data)  \n",
    "# encoding, the_tree = HuffmanEncoding(the_data)  \n",
    "# print(\"Encoded output\", encoding)  \n",
    "# print(\"Decoded Output\", HuffmanDecoding(encoding, the_tree)) \n",
    " "
   ]
  },
  {
   "cell_type": "markdown",
   "id": "390fe4e0-3d12-4a6f-8c53-90d6baff0aae",
   "metadata": {},
   "source": [
    "### BB84 With Huffman Encoding"
   ]
  },
  {
   "cell_type": "markdown",
   "id": "8869b0cf-5dae-4a76-8f35-b95e8baf5c85",
   "metadata": {},
   "source": [
    "#### Encoding with Huffman Algorithm"
   ]
  },
  {
   "cell_type": "code",
   "execution_count": 151,
   "id": "8612e18a-f00d-45e8-900d-5276462bdc63",
   "metadata": {},
   "outputs": [
    {
     "name": "stdin",
     "output_type": "stream",
     "text": [
      "What data/input would you like to encode and send? hello!\n"
     ]
    },
    {
     "name": "stdout",
     "output_type": "stream",
     "text": [
      "symbols:  dict_keys(['h', 'e', 'l', 'o', '!'])\n",
      "probabilities:  dict_values([1, 1, 2, 1, 1])\n",
      "symbols with codes {'e': '000', 'h': '001', 'l': '01', '!': '10', 'o': '11'}\n",
      "Space usage before compression (in bits): 48\n",
      "Space usage after compression (in bits): 14\n",
      "Encoded value: 00100001011110\n",
      "[0, 0, 1, 0, 0, 0, 0, 1, 0, 1, 1, 1, 1, 0]\n"
     ]
    }
   ],
   "source": [
    "the_data = input(\"What data/input would you like to encode and send?\")\n",
    "encoding, the_tree = HuffmanEncoding(the_data)\n",
    "print(\"Encoded value: \" + encoding)\n",
    "#print(list(encoding))\n",
    "encoded_list = []\n",
    "for i in list(encoding):\n",
    "    encoded_list.append(int(i))\n",
    "print(encoded_list)"
   ]
  },
  {
   "cell_type": "markdown",
   "id": "6337ca52-2669-4c3d-8f77-030f21db9155",
   "metadata": {},
   "source": [
    "#### BB84 and Verifying Channel Security with Keys"
   ]
  },
  {
   "cell_type": "code",
   "execution_count": 152,
   "id": "fe06ae66-c341-45b3-82ee-4e229a5d0adc",
   "metadata": {},
   "outputs": [],
   "source": [
    "#Step 1: User 1 Generates Bits\n",
    "#u1_bits = randint(2, size=n)\n",
    "n = len(encoded_list)\n",
    "u1_bits = encoded_list\n",
    "\n",
    "#Step 2: User 1 Generates Bases (0 = Z basis, 1 = X basis)\n",
    "u1_bases = randint(2, size=n)\n",
    "message = encode(u1_bits, u1_bases) #a list of circuits with the correct basis applied\n",
    "\n",
    "#Step 3: User 2 Generates Bases (0 = Z basis, 1 = X basis) and measures User 1's message\n",
    "u2_bases = randint(2, size=n)\n",
    "u2_results = decode(message, u2_bases) \n",
    "\n",
    "#Step 4: Remove the bases that aren't common\n",
    "u1_key = common_bases(u1_bases, u2_bases, u1_bits)\n",
    "u2_key = common_bases(u1_bases, u2_bases, u2_results)\n",
    "\n",
    "#Step 5: Sample a random selection of the bits and compare values to results to verify the security of \n",
    "#the information exchange\n",
    "sample_size = 5\n",
    "bit_selection = randint(n, size=sample_size)\n",
    "u1_sample = sample_bits(u1_key, bit_selection)\n",
    "u2_sample = sample_bits(u2_key, bit_selection)"
   ]
  },
  {
   "cell_type": "code",
   "execution_count": 153,
   "id": "b4761208-fc22-49a7-9a1e-e6ac543904e1",
   "metadata": {},
   "outputs": [
    {
     "name": "stdout",
     "output_type": "stream",
     "text": [
      "You did it!\n",
      "[1, 1]\n",
      "[1, 1]\n",
      "key length = 2\n"
     ]
    }
   ],
   "source": [
    "if u1_sample == u2_sample:\n",
    "    print(\"You did it!\")\n",
    "print(u1_key)\n",
    "print(u2_key)\n",
    "print(\"key length = %i\" % len(u1_key))"
   ]
  },
  {
   "cell_type": "markdown",
   "id": "79d705cf-a88a-4e12-8e2d-88f4854fd742",
   "metadata": {},
   "source": [
    "#### Huffman Decoding"
   ]
  },
  {
   "cell_type": "code",
   "execution_count": 150,
   "id": "14282de9-9210-410e-9348-293caae2efa2",
   "metadata": {},
   "outputs": [
    {
     "name": "stdout",
     "output_type": "stream",
     "text": [
      "Decoded Output: hello!\n"
     ]
    }
   ],
   "source": [
    "keystring = \"\"\n",
    "for num in encoded_list:\n",
    "    keystring+=str(num)\n",
    "    \n",
    "print(\"Decoded Output:\", HuffmanDecoding(keystring, the_tree))   "
   ]
  },
  {
   "cell_type": "code",
   "execution_count": null,
   "id": "67b6f78c-b7b9-4152-bc10-6fdecb915dd3",
   "metadata": {},
   "outputs": [],
   "source": []
  }
 ],
 "metadata": {
  "kernelspec": {
   "display_name": "Python 3 (ipykernel)",
   "language": "python",
   "name": "python3"
  },
  "language_info": {
   "codemirror_mode": {
    "name": "ipython",
    "version": 3
   },
   "file_extension": ".py",
   "mimetype": "text/x-python",
   "name": "python",
   "nbconvert_exporter": "python",
   "pygments_lexer": "ipython3",
   "version": "3.9.7"
  }
 },
 "nbformat": 4,
 "nbformat_minor": 5
}
